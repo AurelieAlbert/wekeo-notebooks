{
 "cells": [
  {
   "cell_type": "markdown",
   "metadata": {},
   "source": [
    "#### Load required libraries"
   ]
  },
  {
   "cell_type": "code",
   "execution_count": 1,
   "metadata": {},
   "outputs": [],
   "source": [
    "import os\n",
    "import sys\n",
    "import json\n",
    "import time\n",
    "import base64\n",
    "from IPython.core.display import HTML\n",
    "\n",
    "import requests\n",
    "import warnings\n",
    "warnings.filterwarnings('ignore')"
   ]
  },
  {
   "cell_type": "markdown",
   "metadata": {},
   "source": [
    "#### Load helper functions"
   ]
  },
  {
   "cell_type": "code",
   "execution_count": 2,
   "metadata": {},
   "outputs": [],
   "source": [
    "from hda_api_functions import *"
   ]
  },
  {
   "cell_type": "markdown",
   "metadata": {},
   "source": [
    "<hr>"
   ]
  },
  {
   "cell_type": "code",
   "execution_count": 3,
   "metadata": {},
   "outputs": [],
   "source": [
    "dataset_id = \"EO:MO:DAT:GLOBAL_REANALYSIS_PHY_001_030:global-reanalysis-phy-001-030-daily\""
   ]
  },
  {
   "cell_type": "code",
   "execution_count": 4,
   "metadata": {},
   "outputs": [],
   "source": [
    "# your WEkEO API username and password (needs to be in '  ')\n",
    "user_name = '####'\n",
    "password = '####'"
   ]
  },
  {
   "cell_type": "code",
   "execution_count": 5,
   "metadata": {},
   "outputs": [
    {
     "data": {
      "text/html": [
       "Your API key is: <b>YXVyZWxpZS5hbGJlcnQ6TSFyZW50eDk5</b>"
      ],
      "text/plain": [
       "<IPython.core.display.HTML object>"
      ]
     },
     "metadata": {},
     "output_type": "display_data"
    }
   ],
   "source": [
    "api_key = generate_api_key(user_name, password)\n",
    "display(HTML('Your API key is: <b>'+api_key+'</b>'))"
   ]
  },
  {
   "cell_type": "code",
   "execution_count": 6,
   "metadata": {},
   "outputs": [],
   "source": [
    "# Enter here the directory path where you want to download the data to\n",
    "download_dir_path = os.getcwd()"
   ]
  },
  {
   "cell_type": "code",
   "execution_count": 7,
   "metadata": {},
   "outputs": [],
   "source": [
    "hda_dict = init(dataset_id, api_key, download_dir_path)"
   ]
  },
  {
   "cell_type": "code",
   "execution_count": 8,
   "metadata": {},
   "outputs": [
    {
     "name": "stdout",
     "output_type": "stream",
     "text": [
      "Getting an access token. This token is valid for one hour only.\n",
      "Success: Access token is 268be0f9-b329-37d5-b645-fba00ba51184\n"
     ]
    }
   ],
   "source": [
    "hda_dict = get_access_token(hda_dict)"
   ]
  },
  {
   "cell_type": "code",
   "execution_count": 9,
   "metadata": {},
   "outputs": [
    {
     "name": "stdout",
     "output_type": "stream",
     "text": [
      "Copernicus_General_License Terms and Conditions already accepted\n"
     ]
    }
   ],
   "source": [
    "hda_dict = acceptTandC(hda_dict)"
   ]
  },
  {
   "cell_type": "code",
   "execution_count": 10,
   "metadata": {},
   "outputs": [],
   "source": [
    "data = {\n",
    "  \"datasetId\": \"EO:MO:DAT:GLOBAL_REANALYSIS_PHY_001_030:global-reanalysis-phy-001-030-daily\",\n",
    "  \"boundingBoxValues\": [\n",
    "    {\n",
    "      \"name\": \"bbox\",\n",
    "      \"bbox\": [\n",
    "        -98.0570520833333,\n",
    "        17.41540292964481,\n",
    "        38.247875,\n",
    "        66.23713173508675\n",
    "      ]\n",
    "    }\n",
    "  ],\n",
    "  \"dateRangeSelectValues\": [\n",
    "    {\n",
    "      \"name\": \"position\",\n",
    "      \"start\": \"2020-01-01T00:00:00.000Z\",\n",
    "      \"end\": \"2020-10-29T00:00:00.000Z\"\n",
    "    }\n",
    "  ],\n",
    "  \"multiStringSelectValues\": [\n",
    "    {\n",
    "      \"name\": \"variable\",\n",
    "      \"value\": [\n",
    "        \"so\"\n",
    "      ]\n",
    "    }\n",
    "  ],\n",
    "  \"stringChoiceValues\": [\n",
    "    {\n",
    "      \"name\": \"service\",\n",
    "      \"value\": \"GLOBAL_REANALYSIS_PHY_001_030-TDS\"\n",
    "    },\n",
    "    {\n",
    "      \"name\": \"product\",\n",
    "      \"value\": \"global-reanalysis-phy-001-030-daily\"\n",
    "    },\n",
    "    {\n",
    "      \"name\": \"startDepth\",\n",
    "      \"value\": \"0.49402499198913574\"\n",
    "    },\n",
    "    {\n",
    "      \"name\": \"endDepth\",\n",
    "      \"value\": \"1062.43994140625\"\n",
    "    }\n",
    "  ]\n",
    "}"
   ]
  },
  {
   "cell_type": "code",
   "execution_count": null,
   "metadata": {},
   "outputs": [
    {
     "name": "stdout",
     "output_type": "stream",
     "text": [
      "Query successfully submitted. Job ID is u7RqzGaX8LjmQYQ3Wc6vN3z7TiU\n",
      "Query successfully submitted. Status is running\n",
      "Query successfully submitted. Status is running\n",
      "Query successfully submitted. Status is running\n",
      "Query successfully submitted. Status is running\n",
      "Query successfully submitted. Status is running\n",
      "Query successfully submitted. Status is running\n",
      "Query successfully submitted. Status is running\n",
      "Query successfully submitted. Status is running\n",
      "Query successfully submitted. Status is failed\n",
      "Query successfully submitted. Status is failed\n",
      "Query successfully submitted. Status is failed\n",
      "Query successfully submitted. Status is failed\n",
      "Query successfully submitted. Status is failed\n",
      "Query successfully submitted. Status is failed\n",
      "Query successfully submitted. Status is failed\n",
      "Query successfully submitted. Status is failed\n",
      "Query successfully submitted. Status is failed\n",
      "Query successfully submitted. Status is failed\n",
      "Query successfully submitted. Status is failed\n",
      "Query successfully submitted. Status is failed\n",
      "Waiting 5 seconds...\n",
      "Query successfully submitted. Status is failed\n",
      "Waiting 5 seconds...\n",
      "Query successfully submitted. Status is failed\n",
      "Waiting 5 seconds...\n",
      "Query successfully submitted. Status is failed\n",
      "Waiting 5 seconds...\n",
      "Query successfully submitted. Status is failed\n",
      "Waiting 5 seconds...\n",
      "Query successfully submitted. Status is failed\n",
      "Waiting 5 seconds...\n",
      "Query successfully submitted. Status is failed\n",
      "Waiting 5 seconds...\n",
      "Query successfully submitted. Status is failed\n",
      "Waiting 5 seconds...\n",
      "Query successfully submitted. Status is failed\n",
      "Waiting 5 seconds...\n",
      "Query successfully submitted. Status is failed\n",
      "Waiting 5 seconds...\n",
      "Query successfully submitted. Status is failed\n",
      "Waiting 5 seconds...\n",
      "Query successfully submitted. Status is failed\n",
      "Waiting 5 seconds...\n",
      "Query successfully submitted. Status is failed\n",
      "Waiting 5 seconds...\n",
      "Query successfully submitted. Status is failed\n",
      "Waiting 5 seconds...\n",
      "Query successfully submitted. Status is failed\n",
      "Waiting 5 seconds...\n",
      "Query successfully submitted. Status is failed\n",
      "Waiting 5 seconds...\n",
      "Query successfully submitted. Status is failed\n",
      "Waiting 5 seconds...\n",
      "Query successfully submitted. Status is failed\n",
      "Waiting 5 seconds...\n",
      "Query successfully submitted. Status is failed\n",
      "Waiting 5 seconds...\n",
      "Query successfully submitted. Status is failed\n",
      "Waiting 5 seconds...\n",
      "Query successfully submitted. Status is failed\n",
      "Waiting 5 seconds...\n",
      "Query successfully submitted. Status is failed\n",
      "Waiting 5 seconds...\n",
      "Query successfully submitted. Status is failed\n",
      "Waiting 5 seconds...\n",
      "Query successfully submitted. Status is failed\n",
      "Waiting 5 seconds...\n",
      "Query successfully submitted. Status is failed\n",
      "Waiting 5 seconds...\n",
      "Query successfully submitted. Status is failed\n",
      "Waiting 5 seconds...\n",
      "Query successfully submitted. Status is failed\n",
      "Waiting 5 seconds...\n",
      "Query successfully submitted. Status is failed\n",
      "Waiting 5 seconds...\n",
      "Query successfully submitted. Status is failed\n",
      "Waiting 5 seconds...\n",
      "Query successfully submitted. Status is failed\n",
      "Waiting 5 seconds...\n",
      "Query successfully submitted. Status is failed\n",
      "Waiting 5 seconds...\n",
      "Query successfully submitted. Status is failed\n",
      "Waiting 5 seconds...\n",
      "Query successfully submitted. Status is failed\n",
      "Waiting 5 seconds...\n",
      "Query successfully submitted. Status is failed\n",
      "Waiting 5 seconds...\n",
      "Query successfully submitted. Status is failed\n",
      "Waiting 5 seconds...\n",
      "Query successfully submitted. Status is failed\n",
      "Waiting 5 seconds...\n",
      "Query successfully submitted. Status is failed\n",
      "Waiting 5 seconds...\n",
      "Query successfully submitted. Status is failed\n",
      "Waiting 5 seconds...\n",
      "Query successfully submitted. Status is failed\n",
      "Waiting 5 seconds...\n",
      "Query successfully submitted. Status is failed\n",
      "Waiting 5 seconds...\n",
      "Query successfully submitted. Status is failed\n",
      "Waiting 5 seconds...\n",
      "Query successfully submitted. Status is failed\n",
      "Waiting 5 seconds...\n",
      "Query successfully submitted. Status is failed\n",
      "Waiting 5 seconds...\n",
      "Query successfully submitted. Status is failed\n",
      "Waiting 5 seconds...\n",
      "Query successfully submitted. Status is failed\n",
      "Waiting 5 seconds...\n",
      "Query successfully submitted. Status is failed\n",
      "Waiting 5 seconds...\n",
      "Query successfully submitted. Status is failed\n",
      "Waiting 5 seconds...\n",
      "Query successfully submitted. Status is failed\n",
      "Waiting 5 seconds...\n",
      "Query successfully submitted. Status is failed\n",
      "Waiting 5 seconds...\n",
      "Query successfully submitted. Status is failed\n",
      "Waiting 5 seconds...\n",
      "Query successfully submitted. Status is failed\n",
      "Waiting 5 seconds...\n",
      "Query successfully submitted. Status is failed\n",
      "Waiting 5 seconds...\n",
      "Query successfully submitted. Status is failed\n",
      "Waiting 5 seconds...\n",
      "Query successfully submitted. Status is failed\n",
      "Waiting 5 seconds...\n",
      "Query successfully submitted. Status is failed\n",
      "Waiting 5 seconds...\n",
      "Query successfully submitted. Status is failed\n",
      "Waiting 5 seconds...\n",
      "Query successfully submitted. Status is failed\n",
      "Waiting 5 seconds...\n",
      "Query successfully submitted. Status is failed\n",
      "Waiting 5 seconds...\n",
      "Query successfully submitted. Status is failed\n",
      "Waiting 5 seconds...\n",
      "Query successfully submitted. Status is failed\n",
      "Waiting 5 seconds...\n",
      "Query successfully submitted. Status is failed\n",
      "Waiting 5 seconds...\n",
      "Query successfully submitted. Status is failed\n",
      "Waiting 5 seconds...\n",
      "Query successfully submitted. Status is failed\n",
      "Waiting 5 seconds...\n",
      "Query successfully submitted. Status is failed\n",
      "Waiting 5 seconds...\n",
      "Query successfully submitted. Status is failed\n",
      "Waiting 5 seconds...\n",
      "Query successfully submitted. Status is failed\n",
      "Waiting 5 seconds...\n",
      "Query successfully submitted. Status is failed\n",
      "Waiting 5 seconds...\n",
      "Query successfully submitted. Status is failed\n",
      "Waiting 5 seconds...\n",
      "Query successfully submitted. Status is failed\n",
      "Waiting 5 seconds...\n",
      "Query successfully submitted. Status is failed\n",
      "Waiting 5 seconds...\n",
      "Query successfully submitted. Status is failed\n",
      "Waiting 5 seconds...\n",
      "Query successfully submitted. Status is failed\n",
      "Waiting 5 seconds...\n",
      "Query successfully submitted. Status is failed\n",
      "Waiting 5 seconds...\n",
      "Query successfully submitted. Status is failed\n",
      "Waiting 5 seconds...\n",
      "Query successfully submitted. Status is failed\n",
      "Waiting 5 seconds...\n",
      "Query successfully submitted. Status is failed\n",
      "Waiting 5 seconds...\n",
      "Query successfully submitted. Status is failed\n",
      "Waiting 5 seconds...\n",
      "Query successfully submitted. Status is failed\n",
      "Waiting 5 seconds...\n",
      "Query successfully submitted. Status is failed\n",
      "Waiting 5 seconds...\n",
      "Query successfully submitted. Status is failed\n",
      "Waiting 5 seconds...\n",
      "Query successfully submitted. Status is failed\n",
      "Waiting 5 seconds...\n",
      "Query successfully submitted. Status is failed\n",
      "Waiting 5 seconds...\n",
      "Query successfully submitted. Status is failed\n",
      "Waiting 5 seconds...\n",
      "Query successfully submitted. Status is failed\n",
      "Waiting 5 seconds...\n",
      "Query successfully submitted. Status is failed\n",
      "Waiting 5 seconds...\n",
      "Query successfully submitted. Status is failed\n",
      "Waiting 5 seconds...\n",
      "Query successfully submitted. Status is failed\n",
      "Waiting 5 seconds...\n",
      "Query successfully submitted. Status is failed\n",
      "Waiting 5 seconds...\n",
      "Query successfully submitted. Status is failed\n",
      "Waiting 5 seconds...\n",
      "Query successfully submitted. Status is failed\n",
      "Waiting 5 seconds...\n",
      "Query successfully submitted. Status is failed\n",
      "Waiting 5 seconds...\n",
      "Query successfully submitted. Status is failed\n",
      "Waiting 5 seconds...\n",
      "Query successfully submitted. Status is failed\n",
      "Waiting 5 seconds...\n",
      "Query successfully submitted. Status is failed\n",
      "Waiting 5 seconds...\n",
      "Query successfully submitted. Status is failed\n",
      "Waiting 5 seconds...\n",
      "Query successfully submitted. Status is failed\n",
      "Waiting 5 seconds...\n",
      "Query successfully submitted. Status is failed\n",
      "Waiting 5 seconds...\n",
      "Query successfully submitted. Status is failed\n",
      "Waiting 5 seconds...\n",
      "Query successfully submitted. Status is failed\n",
      "Waiting 5 seconds...\n",
      "Query successfully submitted. Status is failed\n",
      "Waiting 5 seconds...\n",
      "Query successfully submitted. Status is failed\n",
      "Waiting 5 seconds...\n",
      "Query successfully submitted. Status is failed\n",
      "Waiting 5 seconds...\n",
      "Query successfully submitted. Status is failed\n",
      "Waiting 5 seconds...\n",
      "Query successfully submitted. Status is failed\n",
      "Waiting 5 seconds...\n",
      "Query successfully submitted. Status is failed\n",
      "Waiting 5 seconds...\n",
      "Query successfully submitted. Status is failed\n",
      "Waiting 5 seconds...\n",
      "Query successfully submitted. Status is failed\n",
      "Waiting 5 seconds...\n",
      "Query successfully submitted. Status is failed\n",
      "Waiting 5 seconds...\n",
      "Query successfully submitted. Status is failed\n",
      "Waiting 5 seconds...\n",
      "Query successfully submitted. Status is failed\n",
      "Waiting 5 seconds...\n",
      "Query successfully submitted. Status is failed\n",
      "Waiting 5 seconds...\n",
      "Query successfully submitted. Status is failed\n",
      "Waiting 5 seconds...\n",
      "Query successfully submitted. Status is failed\n",
      "Waiting 5 seconds...\n",
      "Query successfully submitted. Status is failed\n",
      "Waiting 5 seconds...\n",
      "Query successfully submitted. Status is failed\n",
      "Waiting 5 seconds...\n",
      "Query successfully submitted. Status is failed\n",
      "Waiting 5 seconds...\n",
      "Query successfully submitted. Status is failed\n",
      "Waiting 5 seconds...\n",
      "Query successfully submitted. Status is failed\n",
      "Waiting 5 seconds...\n",
      "Query successfully submitted. Status is failed\n",
      "Waiting 5 seconds...\n",
      "Query successfully submitted. Status is failed\n",
      "Waiting 5 seconds...\n"
     ]
    }
   ],
   "source": [
    "hda_dict = get_job_id(hda_dict, data)"
   ]
  },
  {
   "cell_type": "code",
   "execution_count": null,
   "metadata": {},
   "outputs": [],
   "source": [
    "hda_dict = get_results_list(hda_dict)"
   ]
  },
  {
   "cell_type": "code",
   "execution_count": null,
   "metadata": {
    "scrolled": true
   },
   "outputs": [],
   "source": [
    "hda_dict = get_order_ids(hda_dict)"
   ]
  },
  {
   "cell_type": "code",
   "execution_count": null,
   "metadata": {},
   "outputs": [],
   "source": [
    "hda_dict = download_data(hda_dict, file_extension='.zip')"
   ]
  },
  {
   "cell_type": "markdown",
   "metadata": {},
   "source": [
    "<hr>"
   ]
  }
 ],
 "metadata": {
  "kernelspec": {
   "display_name": "Python 2",
   "language": "python",
   "name": "python2"
  },
  "language_info": {
   "codemirror_mode": {
    "name": "ipython",
    "version": 2
   },
   "file_extension": ".py",
   "mimetype": "text/x-python",
   "name": "python",
   "nbconvert_exporter": "python",
   "pygments_lexer": "ipython2",
   "version": "2.7.16"
  }
 },
 "nbformat": 4,
 "nbformat_minor": 4
}
